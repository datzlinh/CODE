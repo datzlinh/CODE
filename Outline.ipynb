{
 "cells": [
  {
   "cell_type": "markdown",
   "metadata": {},
   "source": [
    "**HomeScreen**:\n",
    "\n",
    "##Which task do you want to mark?\n",
    "- Task 1: Mở các tập tin văn bản bên ngoài được yêu cầu với exception-handling\n",
    "- Task 2: Quét từng dòng của câu trả lời bài thi để tìm dữ liệu hợp lệ và cung cấp báo cáo tương ứng\n",
    "- Task 3: Chấm điểm từng bài thi dựa trên tiêu chí đánh giá (rubric) được cung cấp và báo cáo\n",
    "- Task 4: Tạo tập tin kết quả được đặt tên thích hợp\n",
    "- Task 5: Chỉ sử dụng pandas và numpy khi bạn triển khai task 1 đến task 4.\n",
    "\n",
    "If you want to exit the program: type \"Exit\"\n",
    "If you want to choose the other task: type \"Restart\"\n",
    "\n",
    "Entering 1-4 to open the solutions:\n",
    "Your selection is [number(1-4)]\n",
    "\n",
    "*Note: nếu task hoàn thành thì quay lại HomeScreen"
   ]
  },
  {
   "cell_type": "markdown",
   "metadata": {},
   "source": [
    "**ADVANCE FEATURES:**\n",
    "Có thể thêm một số tính năng để người chấm xem lại barem chấm điểm"
   ]
  },
  {
   "cell_type": "code",
   "execution_count": 2,
   "metadata": {},
   "outputs": [],
   "source": [
    "#Libaries import\n",
    "import pandas as pd\n",
    "import numpy as np"
   ]
  },
  {
   "cell_type": "markdown",
   "metadata": {},
   "source": [
    "**Task 1**\n",
    "\n",
    "##We have 2 ways to deal with the problem:\n",
    "- Just entering the name (giving suggestion if they just different in data type// assuming to be .txt only)\n",
    "- Entering the full name with its datatype (mannully type all of them// give datatype selection)\n",
    "\n",
    "*Note: the required files to be read are all .txt --> can assuming to be all .txt and add the function of open other types if required.\n",
    "\n",
    "*For them to choose folders: which folders you want to open (grade or expected outcomes)"
   ]
  },
  {
   "cell_type": "code",
   "execution_count": null,
   "metadata": {},
   "outputs": [],
   "source": [
    "##TASK 1\n",
    "import pandas as pd\n",
    "import numpy as np\n",
    "\n",
    "while True:\n",
    "    print (\"Please enter the name of opened file (.txt).\",\"If it's not file .txt, enter.\",sep=\"\\n\")\n",
    "    a = input()\n",
    "    try:\n",
    "        with open (a+\".txt\",\"r\") as File1:\n",
    "            print(File1.read())  \n",
    "        print(\"Task completed\")\n",
    "        break      \n",
    "    except FileNotFoundError:\n",
    "        print(\"File is not in the folder\",\"If you want to open another files, type \\\"continue\\\"\",sep=\"\\n\")\n",
    "        res = input()\n",
    "        if res == \"continue\":\n",
    "            pass\n",
    "        else:\n",
    "            print(\"Task completed\")\n",
    "            break"
   ]
  },
  {
   "cell_type": "markdown",
   "metadata": {},
   "source": [
    "**Task 2**\n",
    "\n",
    "Task 2: Quét từng dòng của câu trả lời bài thi để tìm dữ liệu hợp lệ và cung cấp báo cáo tương ứng\n",
    "\n",
    "Data input format:\n",
    "N12345678,B,A,D,D,C,B,D,A,C,C,D,B,A,B,A,C,B,D,A,C,A,A,B,D,D\n",
    "- ID: N# (N+8)\n",
    "- Answer: 25 answers in total"
   ]
  },
  {
   "cell_type": "code",
   "execution_count": 52,
   "metadata": {},
   "outputs": [
    {
     "name": "stdout",
     "output_type": "stream",
     "text": [
      "['N12345678', 'B', 'D', 'D', 'D', 'C', 'B', 'D', 'A', 'C', 'C', 'D', 'B', 'A', 'B', 'A', 'C', 'B', 'D', 'A', 'C', 'A', 'A', 'B', 'D', 'D']\n",
      "{'N12345678': ['B', 'D', 'D', 'D', 'C', 'B', 'D', 'A', 'C', 'C', 'D', 'B', 'A', 'B', 'A', 'C', 'B', 'D', 'A', 'C', 'A', 'A', 'B', 'D', 'D']}\n",
      "accepted\n"
     ]
    }
   ],
   "source": [
    "#Enter a class to grade (i.e. class1 for class1.txt): class1\n",
    "#N12345678,B,A,D,D,C,B,D,A,C,C,D,B,A,B,A,C,B,D,A,C,A,A,B,D,D\n",
    "a = \"N12345678,B,D,D,D,C,B,D,A,C,C,D,B,A,B,A,C,B,D,A,C,A,A,B,D,D\"\n",
    "b = a.split(\",\")\n",
    "print(b)\n",
    "stulist = {}\n",
    "stulist[b[0]] = b[1:]\n",
    "print (stulist)\n",
    "\n",
    "for stuid, ans in stulist.items():\n",
    "    #stuid check\n",
    "    if len(stuid) != 9:\n",
    "        print (\"Error Founded in student ID,1\")\n",
    "        break\n",
    "    if stuid[0] !=\"N\":\n",
    "        print(\"Error Founded in student ID,2\")\n",
    "        break\n",
    "    if stuid[1:].isdigit():\n",
    "        print(\"accepted\")\n",
    "    else:\n",
    "        print(\"Error Founded in student ID,3\")\n",
    "    #ans check\n",
    "    if len(ans) != 25:\n",
    "        print(\"Error Founded in answer,1\")\n",
    "##REPORT"
   ]
  },
  {
   "cell_type": "markdown",
   "metadata": {},
   "source": [
    "**Task 3:**\n",
    "\n",
    "Chấm điểm từng bài thi dựa trên tiêu chí đánh giá (rubric) được cung cấp và báo cáo\n",
    "\n",
    "- +4 điểm cho mỗi câu trả lời đúng\n",
    "- 0 điểm cho mỗi câu trả lời bị bỏ qua\n",
    "- -1 điểm cho mỗi câu trả lời sai\n",
    "\n",
    "##Report\n",
    "- Điểm trung bình\n",
    "- Điểm cao nhất\n",
    "- Điểm thấp nhất\n",
    "- Miền giá trị của điểm (cao nhất trừ thấp nhất)\n",
    "- Giá trị trung vị (Sắp xếp các điểm theo thứ tự tăng dần. Nếu # học sinh là số lẻ, bạn có thể lấy giá trị nằm ở giữa của tất cả các điểm (tức là [0, 50, 100] — trung vị là 50). Nếu # học sinh là chẵn bạn có thể tính giá trị trung vị bằng cách lấy giá trị trung bình của hai giá trị giữa (tức là [0, 50, 60, 100] — giá trị trung vị là 55)).\n",
    "\n",
    "*Gợi ý: Khi đã cho điểm các học sinh, bạn nên sử dụng một list để lưu trữ điểm số của từng học sinh; sau đó bạn có thể tính toán số liệu thống kê sau khi đã kiểm tra mọi học sinh trong tệp."
   ]
  },
  {
   "cell_type": "code",
   "execution_count": null,
   "metadata": {},
   "outputs": [],
   "source": [
    "#Task3"
   ]
  },
  {
   "cell_type": "markdown",
   "metadata": {},
   "source": [
    "**Task 4:**\n",
    "\n",
    "Tạo tập tin kết quả được đặt tên thích hợp\n",
    "\n",
    "“class1.txt”, bạn nên lưu trữ kết quả trong tệp có tên “class1_grades.txt”.\n",
    "\n",
    "answer_key = \"B,A,D,D,C,B,D,A,C,C,D,B,A,B,A,C,B,D,A,C,A,A,B,D,D\""
   ]
  },
  {
   "cell_type": "markdown",
   "metadata": {},
   "source": [
    "**this is what class1_grades.txt should look like**\n",
    "\n",
    "    N00000001,59\n",
    "    N00000002,70\n",
    "    N00000003,84\n",
    "    N00000004,73\n",
    "    N00000005,83"
   ]
  },
  {
   "cell_type": "code",
   "execution_count": 4,
   "metadata": {},
   "outputs": [
    {
     "name": "stdout",
     "output_type": "stream",
     "text": [
      "0     [N00000046,B,,D,D,C,B,D,A,C,C,D,B,A,B,D,C,B,D,...\n",
      "1     [N00000047,B,,D,C,C,B,D,D,C,C,D,,A,B,D,C,,D,A,...\n",
      "2     [N00000048,B,A,D,D,C,B,,D,C,C,D,B,A,B,A,D,B,D,...\n",
      "3     [N00000049,A,,D,D,C,B,D,,C,C,D,B,,B,A,C,C,D,A,...\n",
      "4     [N00000050,,C,,D,,D,D,A,C,A,A,B,A,B,A,D,B,D,A,...\n",
      "                            ...                        \n",
      "95    [N00000141,B,A,D,,A,B,D,A,,C,D,B,A,B,A,C,B,C,A...\n",
      "96    [N00000142,B,A,,D,C,B,D,A,C,C,,B,A,B,A,C,B,A,A...\n",
      "97    [N00000143,B,A,A,D,C,B,D,A,C,B,D,B,A,A,A,D,B,D...\n",
      "98    [N00000144,,A,D,,C,B,D,A,,C,D,B,A,B,A,,,D,A,C,...\n",
      "99    [N00000145,B,B,D,D,C,B,D,A,C,C,D,B,A,B,A,C,B,D...\n",
      "Length: 100, dtype: object\n",
      "Successfully opened class3.txt\n"
     ]
    }
   ],
   "source": [
    "import pandas as pd\n",
    "import numpy as np\n",
    "stulist = []\n",
    "with open (\"class3\"+\".txt\",\"r\") as File1:\n",
    "    data = File1.readlines()\n",
    "    for line in data:\n",
    "        stulist.append([line.replace(\"\\n\",\"\")])\n",
    "stulist = pd.Series(stulist)\n",
    "print (stulist)\n",
    "print(\"Successfully opened \"+\"class3\"+\".txt\")"
   ]
  }
 ],
 "metadata": {
  "interpreter": {
   "hash": "98b478de461971fab32442434c427a5eb737f36d56fc11222a7317f286fba743"
  },
  "kernelspec": {
   "display_name": "Python 3.8.10 64-bit",
   "language": "python",
   "name": "python3"
  },
  "language_info": {
   "codemirror_mode": {
    "name": "ipython",
    "version": 3
   },
   "file_extension": ".py",
   "mimetype": "text/x-python",
   "name": "python",
   "nbconvert_exporter": "python",
   "pygments_lexer": "ipython3",
   "version": "3.8.10"
  },
  "orig_nbformat": 4
 },
 "nbformat": 4,
 "nbformat_minor": 2
}
